{
 "cells": [
  {
   "cell_type": "markdown",
   "metadata": {},
   "source": [
    "# Machine Learning Utils - Classification example"
   ]
  },
  {
   "cell_type": "markdown",
   "metadata": {},
   "source": [
    "###### Titanic dataset (Kaggle)  https://www.kaggle.com/hesh97/titanicdataset-traincsv"
   ]
  },
  {
   "cell_type": "markdown",
   "metadata": {},
   "source": [
    "### 0 - Setup"
   ]
  },
  {
   "cell_type": "code",
   "execution_count": null,
   "metadata": {},
   "outputs": [],
   "source": [
    "from ml_utils import *\n",
    "import warnings\n",
    "warnings.filterwarnings(\"ignore\")"
   ]
  },
  {
   "cell_type": "code",
   "execution_count": null,
   "metadata": {},
   "outputs": [],
   "source": [
    "dtf = pd.read_csv('data_titanic.csv')\n",
    "dtf.head()"
   ]
  },
  {
   "cell_type": "code",
   "execution_count": null,
   "metadata": {},
   "outputs": [],
   "source": [
    "check_Nas(dtf, plot=\"map\")"
   ]
  },
  {
   "cell_type": "markdown",
   "metadata": {},
   "source": [
    "### 1 - Data Analysis"
   ]
  },
  {
   "cell_type": "markdown",
   "metadata": {},
   "source": [
    "###### Group variables by info\n",
    "- pk: PassengerId, Name\n",
    "- y: Survived\n",
    "- who: Sex, Age, Embarked (which port C=Cherbourg, Q=Queenstown, S=Southampton)\n",
    "- wealth: Pclass, Ticket, Fare\n",
    "- where: Cabin\n",
    "- how many: SibSp (with siblings/spouse), Parch (with parent/children)"
   ]
  },
  {
   "cell_type": "code",
   "execution_count": null,
   "metadata": {},
   "outputs": [],
   "source": [
    "features = []"
   ]
  },
  {
   "cell_type": "markdown",
   "metadata": {},
   "source": [
    "###### Target Variable"
   ]
  },
  {
   "cell_type": "code",
   "execution_count": null,
   "metadata": {},
   "outputs": [],
   "source": [
    "dtf = dtf.rename(columns={\"Survived\":\"Y\"})\n",
    "\n",
    "freqdist_plot(dtf, \"Y\", figsize=(5,3))"
   ]
  },
  {
   "cell_type": "code",
   "execution_count": null,
   "metadata": {},
   "outputs": [],
   "source": [
    "#-> Population mean: 38% of the passengers survived"
   ]
  },
  {
   "cell_type": "markdown",
   "metadata": {},
   "source": [
    "###### Who? Sex, Age, Embarked"
   ]
  },
  {
   "cell_type": "code",
   "execution_count": null,
   "metadata": {},
   "outputs": [],
   "source": [
    "#--- Sex ----#\n",
    "bivariate_plot(dtf, x=\"Sex\", y=\"Y\", figsize=(10,5))"
   ]
  },
  {
   "cell_type": "code",
   "execution_count": null,
   "metadata": {},
   "outputs": [],
   "source": [
    "#-> Sex is Predictive: the surviving rate of females is higher.\n",
    "features.append(\"Sex\")"
   ]
  },
  {
   "cell_type": "code",
   "execution_count": null,
   "metadata": {},
   "outputs": [],
   "source": [
    "#--- Age ---#\n",
    "nan_analysis(dtf, na_x=\"Age\", y=\"Y\", max_cat=20, figsize=(10,5))"
   ]
  },
  {
   "cell_type": "code",
   "execution_count": null,
   "metadata": {},
   "outputs": [],
   "source": [
    "freqdist_plot(dtf, \"Age\", box_logscale=True, figsize=(10,5))"
   ]
  },
  {
   "cell_type": "code",
   "execution_count": null,
   "metadata": {},
   "outputs": [],
   "source": [
    "dtf[\"Age\"] = dtf[\"Age\"].fillna( dtf[\"Age\"].mean() )"
   ]
  },
  {
   "cell_type": "code",
   "execution_count": null,
   "metadata": {},
   "outputs": [],
   "source": [
    "bivariate_plot(dtf, x=\"Age\", y=\"Y\", figsize=(15,5))"
   ]
  },
  {
   "cell_type": "code",
   "execution_count": null,
   "metadata": {},
   "outputs": [],
   "source": [
    "#-> Age is Predictive: the Surviving rate is higher for younger passengers, there is a spike in the left tail of Y=1 \n",
    "# distribution and the first bin of Age (0-16) contains the highest percentage of survived people.\n",
    "features.append(\"Age\")"
   ]
  },
  {
   "cell_type": "code",
   "execution_count": null,
   "metadata": {},
   "outputs": [],
   "source": [
    "#--- Embarked ---#\n",
    "bivariate_plot(dtf, x=\"Embarked\", y=\"Y\", figsize=(10,5))"
   ]
  },
  {
   "cell_type": "code",
   "execution_count": null,
   "metadata": {},
   "outputs": [],
   "source": [
    "coeff, p = test_corr(dtf, x=\"Embarked\", y=\"Y\")"
   ]
  },
  {
   "cell_type": "code",
   "execution_count": null,
   "metadata": {},
   "outputs": [],
   "source": [
    "#-> Embarked is Predictive: People from port C tend to survive better (that can be because they stayed in a fortunate area\n",
    "# of the ship or just because they're smarter). Since there aren't many observations, I tested the significance \n",
    "# of the correlation (Cramer cat vs cat), it passed.\n",
    "features.append(\"Embarked\")"
   ]
  },
  {
   "cell_type": "markdown",
   "metadata": {},
   "source": [
    "###### Wealth? Pclass, Ticket, Fare"
   ]
  },
  {
   "cell_type": "code",
   "execution_count": null,
   "metadata": {},
   "outputs": [],
   "source": [
    "#--- Pclass ---#\n",
    "bivariate_plot(dtf, x=\"Pclass\", y=\"Y\", figsize=(10,5))"
   ]
  },
  {
   "cell_type": "code",
   "execution_count": null,
   "metadata": {},
   "outputs": [],
   "source": [
    "#-> Pclass is Predctive: the richer the higher the probability of surviving.\n",
    "features.append(\"Pclass\")"
   ]
  },
  {
   "cell_type": "code",
   "execution_count": null,
   "metadata": {},
   "outputs": [],
   "source": [
    "#--- Ticket ---#\n",
    "freqdist_plot(dtf, \"Ticket\", top=10, figsize=(5,3))"
   ]
  },
  {
   "cell_type": "code",
   "execution_count": null,
   "metadata": {},
   "outputs": [],
   "source": [
    "#-> Ticket is Useless"
   ]
  },
  {
   "cell_type": "code",
   "execution_count": null,
   "metadata": {},
   "outputs": [],
   "source": [
    "#--- Fare ---#\n",
    "bivariate_plot(dtf, x=\"Fare\", y=\"Y\", figsize=(15,5))"
   ]
  },
  {
   "cell_type": "code",
   "execution_count": null,
   "metadata": {},
   "outputs": [],
   "source": [
    "#-> Fare is Predictive: it gives the same info of Pclass\n",
    "bivariate_plot(dtf, x=\"Fare\", y=\"Pclass\", figsize=(15,5))"
   ]
  },
  {
   "cell_type": "code",
   "execution_count": null,
   "metadata": {},
   "outputs": [],
   "source": [
    "cross_distributions(dtf, x1=\"Pclass\", x2=\"Fare\", y=\"Survived\", figsize=(10,5))"
   ]
  },
  {
   "cell_type": "code",
   "execution_count": null,
   "metadata": {},
   "outputs": [],
   "source": [
    "## Looks there is more information in the first class: who paid higher price survived better.\n",
    "## I will keep it for now and exclude one of the two in the Features Selection section.\n",
    "features.append(\"Fare\")"
   ]
  },
  {
   "cell_type": "markdown",
   "metadata": {},
   "source": [
    "###### Where? Cabin"
   ]
  },
  {
   "cell_type": "code",
   "execution_count": null,
   "metadata": {},
   "outputs": [],
   "source": [
    "# Cabin\n",
    "freqdist_plot(dtf, \"Cabin\", top=10, figsize=(5,3))"
   ]
  },
  {
   "cell_type": "code",
   "execution_count": null,
   "metadata": {},
   "outputs": [],
   "source": [
    "## Useless like this, let's see if the variable can be clustered using the first letter of the cabin:\n",
    "dtf[\"Cabin_section\"] = dtf[\"Cabin\"].apply(lambda x: str(x)[0])\n",
    "freqdist_plot(dtf, \"Cabin_section\", top=10, figsize=(5,3))"
   ]
  },
  {
   "cell_type": "code",
   "execution_count": null,
   "metadata": {},
   "outputs": [],
   "source": [
    "cross_distributions(dtf, x1=\"Cabin_section\", x2=\"Pclass\", y=\"Survived\", figsize=(10,5))"
   ]
  },
  {
   "cell_type": "code",
   "execution_count": null,
   "metadata": {},
   "outputs": [],
   "source": []
  },
  {
   "cell_type": "markdown",
   "metadata": {},
   "source": [
    "###### How many? SibSp, Parch"
   ]
  },
  {
   "cell_type": "code",
   "execution_count": null,
   "metadata": {},
   "outputs": [],
   "source": [
    "bivariate_plot(dtf, x=\"SibSp\", y=\"Survived\", figsize=(15,5))"
   ]
  },
  {
   "cell_type": "code",
   "execution_count": null,
   "metadata": {},
   "outputs": [],
   "source": [
    "features.append(\"SibSp\")"
   ]
  },
  {
   "cell_type": "code",
   "execution_count": null,
   "metadata": {},
   "outputs": [],
   "source": [
    "bivariate_plot(dtf, x=\"Parch\", y=\"Survived\", figsize=(15,5))"
   ]
  },
  {
   "cell_type": "code",
   "execution_count": null,
   "metadata": {},
   "outputs": [],
   "source": [
    "features.append(\"Parch\")"
   ]
  },
  {
   "cell_type": "markdown",
   "metadata": {},
   "source": [
    "###### Summary"
   ]
  },
  {
   "cell_type": "code",
   "execution_count": null,
   "metadata": {},
   "outputs": [],
   "source": []
  },
  {
   "cell_type": "code",
   "execution_count": null,
   "metadata": {},
   "outputs": [],
   "source": [
    "sns.scatterplot(data=dtf, x=\"Age\", y=\"Fare\", hue=\"Survived\", style=\"Sex\")"
   ]
  },
  {
   "cell_type": "code",
   "execution_count": null,
   "metadata": {},
   "outputs": [],
   "source": [
    "g = sns.FacetGrid(dtf, col=\"Sex\",  row=\"Pclass\", hue=\"Survived\")\n",
    "g.map(plt.plot, \"Age\", \"Fare\", marker=\".\").add_legend()"
   ]
  },
  {
   "cell_type": "code",
   "execution_count": null,
   "metadata": {},
   "outputs": [],
   "source": [
    "dtf = dtf[[\"PassengerId\"]+features+[\"Y\"]]\n",
    "dtf.head()"
   ]
  },
  {
   "cell_type": "markdown",
   "metadata": {},
   "source": [
    "### 2 - Preprocessing"
   ]
  },
  {
   "cell_type": "code",
   "execution_count": null,
   "metadata": {},
   "outputs": [],
   "source": [
    "check = data_preprocessing(dtf, pk=\"PassengerId\", y=\"Survived\", task=\"classification\",\n",
    "                           processNas=None, processCategorical=None, split=None, scale=None)"
   ]
  },
  {
   "cell_type": "markdown",
   "metadata": {},
   "source": [
    "###### NAs"
   ]
  },
  {
   "cell_type": "code",
   "execution_count": null,
   "metadata": {},
   "outputs": [],
   "source": [
    "dtf = dtf[dtf[\"Embarked\"].notnull()]\n",
    "print(dtf.shape)"
   ]
  },
  {
   "cell_type": "markdown",
   "metadata": {},
   "source": [
    "###### Categorical"
   ]
  },
  {
   "cell_type": "code",
   "execution_count": null,
   "metadata": {},
   "outputs": [],
   "source": [
    "dtf = add_dummies(dtf, x=\"Embarked\", dropx=True, dummy_na=False)"
   ]
  },
  {
   "cell_type": "code",
   "execution_count": null,
   "metadata": {},
   "outputs": [],
   "source": [
    "dtf = add_dummies(dtf, x=\"Sex\", dropx=True, dummy_na=False)"
   ]
  },
  {
   "cell_type": "markdown",
   "metadata": {},
   "source": [
    "###### Partitioning + Scaling"
   ]
  },
  {
   "cell_type": "code",
   "execution_count": null,
   "metadata": {},
   "outputs": [],
   "source": [
    "dic_data = data_preprocessing(dtf, pk=\"PassengerId\", y=\"Survived\", task=\"classification\",\n",
    "                              processNas=None, processCategorical=None, split=0.3, scale=\"standard\")\n",
    "\n",
    "X_names = dic_data[\"X_names\"]\n",
    "X_train, X_test = dic_data[\"X\"]\n",
    "Y_train, Y_test = dic_data[\"Y\"]\n",
    "scaler, _ = dic_data[\"scaler\"]"
   ]
  },
  {
   "cell_type": "markdown",
   "metadata": {},
   "source": [
    "### 3 - Baseline (xgboost)"
   ]
  },
  {
   "cell_type": "markdown",
   "metadata": {},
   "source": [
    "###### Features Selection"
   ]
  },
  {
   "cell_type": "code",
   "execution_count": null,
   "metadata": {},
   "outputs": [],
   "source": []
  },
  {
   "cell_type": "markdown",
   "metadata": {},
   "source": [
    "###### Train"
   ]
  },
  {
   "cell_type": "code",
   "execution_count": null,
   "metadata": {},
   "outputs": [],
   "source": [
    "baseline = ensemble.GradientBoostingClassifier()"
   ]
  },
  {
   "cell_type": "code",
   "execution_count": null,
   "metadata": {},
   "outputs": [],
   "source": [
    "dic_model = fit_classif_model(baseline, X_train, Y_train, X_test, Y_test, Y_threshold=0.5)\n",
    "\n",
    "predicted_prob, predicted = dic_model[\"predicted_prob\"], dic_model[\"predicted\"]"
   ]
  },
  {
   "cell_type": "markdown",
   "metadata": {},
   "source": [
    "###### Evaluate"
   ]
  },
  {
   "cell_type": "code",
   "execution_count": null,
   "metadata": {},
   "outputs": [],
   "source": [
    "evaluate_model(Y_test, predicted, predicted_prob, figsize=(20,5))"
   ]
  },
  {
   "cell_type": "code",
   "execution_count": null,
   "metadata": {},
   "outputs": [],
   "source": []
  },
  {
   "cell_type": "markdown",
   "metadata": {},
   "source": [
    "### 4 - Model Desing & Testing (neural network)"
   ]
  },
  {
   "cell_type": "markdown",
   "metadata": {},
   "source": [
    "###### Features Selection"
   ]
  },
  {
   "cell_type": "code",
   "execution_count": null,
   "metadata": {},
   "outputs": [],
   "source": [
    "dic_feat_sel = features_selection(dtf, y=\"Survived\", top=5, figsize=(10,5))"
   ]
  },
  {
   "cell_type": "code",
   "execution_count": null,
   "metadata": {},
   "outputs": [],
   "source": [
    "dic_feat_sel"
   ]
  },
  {
   "cell_type": "code",
   "execution_count": null,
   "metadata": {},
   "outputs": [],
   "source": [
    "dtf = dtf[[\"PassengerId\"]+dic_feat_sel[\"join\"]+[\"Survived\"]]"
   ]
  },
  {
   "cell_type": "code",
   "execution_count": null,
   "metadata": {},
   "outputs": [],
   "source": [
    "dic_data = data_preprocessing(dtf, pk=\"PassengerId\", y=\"Survived\", task=\"classification\",\n",
    "                              processNas=None, processCategorical=None, split=0.3, scale=\"standard\")\n",
    "\n",
    "X_names = dic_data[\"X_names\"]\n",
    "X_train, X_test = dic_data[\"X\"]\n",
    "Y_train, Y_test = dic_data[\"Y\"]\n",
    "scaler, _ = dic_data[\"scaler\"]"
   ]
  },
  {
   "cell_type": "markdown",
   "metadata": {},
   "source": [
    "###### Train"
   ]
  },
  {
   "cell_type": "code",
   "execution_count": null,
   "metadata": {},
   "outputs": [],
   "source": [
    "param_dic = {'learning_rate':[0.15,0.1,0.05,0.01,0.005,0.001],      #weighting factor for the corrections by new trees when added to the model\n",
    "             'n_estimators':[100,250,500,750,1000,1250,1500,1750],  #captures the number of trees that we add to the model\n",
    "             'max_depth':[2,3,4,5,6,7],                             #maximum depth of the tree\n",
    "             'min_samples_split':[2,4,6,8,10,20,40,60,100],         #sets the minimum number of samples to split\n",
    "             'min_samples_leaf':[1,3,5,7,9],                        #the minimum number of samples to form a leaf\n",
    "             'max_features':[2,3,4,5,6,7],                          #square root of features is usually a good starting point\n",
    "             'subsample':[0.7,0.75,0.8,0.85,0.9,0.95,1]}            #the fraction of samples to be used for fitting the individual base learners. Values lower than 1 generally lead to a reduction of variance and an increase in bias."
   ]
  },
  {
   "cell_type": "code",
   "execution_count": null,
   "metadata": {},
   "outputs": [],
   "source": [
    "model = model_tuning(X_train, Y_train, baseline, param_dic, scoring=\"accuracy\", \n",
    "                     searchtype=\"RandomSearch\", n_iter=1000, cv=10, figsize=(10,5))"
   ]
  },
  {
   "cell_type": "code",
   "execution_count": null,
   "metadata": {},
   "outputs": [],
   "source": [
    "dic_model = fit_classif_model(model, X_train, Y_train, X_test, Y_test, Y_threshold=0.5)\n",
    "\n",
    "model, predicted_prob, predicted = dic_model[\"model\"], dic_model[\"predicted_prob\"], dic_model[\"predicted\"]"
   ]
  },
  {
   "cell_type": "markdown",
   "metadata": {},
   "source": [
    "###### Evaluate"
   ]
  },
  {
   "cell_type": "code",
   "execution_count": null,
   "metadata": {},
   "outputs": [],
   "source": [
    "evaluate_model(Y_test, predicted, predicted_prob, figsize=(20,5))"
   ]
  }
 ],
 "metadata": {
  "kernelspec": {
   "display_name": "Python 3",
   "language": "python",
   "name": "python3"
  },
  "language_info": {
   "codemirror_mode": {
    "name": "ipython",
    "version": 3
   },
   "file_extension": ".py",
   "mimetype": "text/x-python",
   "name": "python",
   "nbconvert_exporter": "python",
   "pygments_lexer": "ipython3",
   "version": "3.6.7"
  }
 },
 "nbformat": 4,
 "nbformat_minor": 2
}
